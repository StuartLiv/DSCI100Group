{
 "cells": [
  {
   "cell_type": "code",
   "execution_count": 2,
   "metadata": {
    "collapsed": true,
    "jupyter": {
     "outputs_hidden": true
    }
   },
   "outputs": [
    {
     "name": "stderr",
     "output_type": "stream",
     "text": [
      "── \u001b[1mAttaching packages\u001b[22m ─────────────────────────────────────── tidyverse 1.3.0 ──\n",
      "\n",
      "\u001b[32m✔\u001b[39m \u001b[34mggplot2\u001b[39m 3.3.2     \u001b[32m✔\u001b[39m \u001b[34mpurrr  \u001b[39m 0.3.4\n",
      "\u001b[32m✔\u001b[39m \u001b[34mtibble \u001b[39m 3.0.3     \u001b[32m✔\u001b[39m \u001b[34mdplyr  \u001b[39m 1.0.2\n",
      "\u001b[32m✔\u001b[39m \u001b[34mtidyr  \u001b[39m 1.1.2     \u001b[32m✔\u001b[39m \u001b[34mstringr\u001b[39m 1.4.0\n",
      "\u001b[32m✔\u001b[39m \u001b[34mreadr  \u001b[39m 1.3.1     \u001b[32m✔\u001b[39m \u001b[34mforcats\u001b[39m 0.5.0\n",
      "\n",
      "Warning message:\n",
      "“package ‘ggplot2’ was built under R version 4.0.1”\n",
      "Warning message:\n",
      "“package ‘tibble’ was built under R version 4.0.2”\n",
      "Warning message:\n",
      "“package ‘tidyr’ was built under R version 4.0.2”\n",
      "Warning message:\n",
      "“package ‘dplyr’ was built under R version 4.0.2”\n",
      "── \u001b[1mConflicts\u001b[22m ────────────────────────────────────────── tidyverse_conflicts() ──\n",
      "\u001b[31m✖\u001b[39m \u001b[34mdplyr\u001b[39m::\u001b[32mfilter()\u001b[39m masks \u001b[34mstats\u001b[39m::filter()\n",
      "\u001b[31m✖\u001b[39m \u001b[34mdplyr\u001b[39m::\u001b[32mlag()\u001b[39m    masks \u001b[34mstats\u001b[39m::lag()\n",
      "\n"
     ]
    }
   ],
   "source": [
    "library(tidyverse)"
   ]
  },
  {
   "cell_type": "markdown",
   "metadata": {},
   "source": [
    "Loading in csv files:"
   ]
  },
  {
   "cell_type": "code",
   "execution_count": 49,
   "metadata": {
    "collapsed": true,
    "jupyter": {
     "outputs_hidden": true
    }
   },
   "outputs": [
    {
     "name": "stderr",
     "output_type": "stream",
     "text": [
      "Parsed with column specification:\n",
      "cols(\n",
      "  .default = col_double(),\n",
      "  datetime = \u001b[34mcol_datetime(format = \"\")\u001b[39m\n",
      ")\n",
      "\n",
      "See spec(...) for full column specifications.\n",
      "\n",
      "Parsed with column specification:\n",
      "cols(\n",
      "  .default = col_double(),\n",
      "  datetime = \u001b[34mcol_datetime(format = \"\")\u001b[39m\n",
      ")\n",
      "\n",
      "See spec(...) for full column specifications.\n",
      "\n",
      "Parsed with column specification:\n",
      "cols(\n",
      "  .default = col_double(),\n",
      "  datetime = \u001b[34mcol_datetime(format = \"\")\u001b[39m\n",
      ")\n",
      "\n",
      "See spec(...) for full column specifications.\n",
      "\n",
      "Parsed with column specification:\n",
      "cols(\n",
      "  .default = col_double(),\n",
      "  datetime = \u001b[34mcol_datetime(format = \"\")\u001b[39m\n",
      ")\n",
      "\n",
      "See spec(...) for full column specifications.\n",
      "\n",
      "Parsed with column specification:\n",
      "cols(\n",
      "  .default = col_character(),\n",
      "  datetime = \u001b[34mcol_datetime(format = \"\")\u001b[39m\n",
      ")\n",
      "\n",
      "See spec(...) for full column specifications.\n",
      "\n"
     ]
    }
   ],
   "source": [
    "humidity_data = read_csv(\"https://raw.githubusercontent.com/StuartLiv/DSCI100Group/main/data/humidity.csv\")\n",
    "pressure_data = read_csv(\"https://raw.githubusercontent.com/StuartLiv/DSCI100Group/main/data/pressure.csv\")\n",
    "temperature_data = read_csv(\"https://raw.githubusercontent.com/StuartLiv/DSCI100Group/main/data/temperature.csv\")\n",
    "wind_data = read_csv(\"https://raw.githubusercontent.com/StuartLiv/DSCI100Group/main/data/wind_speed.csv\")\n",
    "description_data = read_csv(\"https://raw.githubusercontent.com/StuartLiv/DSCI100Group/main/data/weather_description.csv\")"
   ]
  },
  {
   "cell_type": "markdown",
   "metadata": {},
   "source": [
    "Selecting Vancouver columns"
   ]
  },
  {
   "cell_type": "code",
   "execution_count": 50,
   "metadata": {},
   "outputs": [],
   "source": [
    "humidity_van = select(humidity_data, datetime, Vancouver)\n",
    "pressure_van = select(pressure_data, datetime, Vancouver)\n",
    "temperature_van = select(temperature_data, datetime, Vancouver)\n",
    "wind_van = select(wind_data, datetime, Vancouver)\n",
    "description_van = select(description_data, datetime, Vancouver)"
   ]
  },
  {
   "cell_type": "markdown",
   "metadata": {},
   "source": [
    "Merge Datasets"
   ]
  },
  {
   "cell_type": "code",
   "execution_count": 51,
   "metadata": {},
   "outputs": [
    {
     "name": "stderr",
     "output_type": "stream",
     "text": [
      "Joining, by = \"datetime\"\n",
      "\n"
     ]
    },
    {
     "data": {
      "text/html": [
       "<table>\n",
       "<caption>A tibble: 6 × 6</caption>\n",
       "<thead>\n",
       "\t<tr><th scope=col>datetime</th><th scope=col>humidity.pct</th><th scope=col>pressure.kpa</th><th scope=col>temperature.c</th><th scope=col>wind_speed.m/s</th><th scope=col>description</th></tr>\n",
       "\t<tr><th scope=col>&lt;dttm&gt;</th><th scope=col>&lt;dbl&gt;</th><th scope=col>&lt;dbl&gt;</th><th scope=col>&lt;dbl&gt;</th><th scope=col>&lt;dbl&gt;</th><th scope=col>&lt;fct&gt;</th></tr>\n",
       "</thead>\n",
       "<tbody>\n",
       "\t<tr><td>2012-10-02 09:00:00</td><td>87</td><td> 807</td><td>11.44022</td><td>0</td><td>broken clouds</td></tr>\n",
       "\t<tr><td>2012-10-02 10:00:00</td><td>88</td><td> 849</td><td>11.43817</td><td>0</td><td>broken clouds</td></tr>\n",
       "\t<tr><td>2012-10-02 11:00:00</td><td>89</td><td> 890</td><td>11.43613</td><td>0</td><td>broken clouds</td></tr>\n",
       "\t<tr><td>2012-10-02 12:00:00</td><td>89</td><td> 932</td><td>11.43409</td><td>0</td><td>broken clouds</td></tr>\n",
       "\t<tr><td>2012-10-02 13:00:00</td><td>90</td><td> 973</td><td>11.43204</td><td>0</td><td>broken clouds</td></tr>\n",
       "\t<tr><td>2012-10-02 14:00:00</td><td>91</td><td>1015</td><td>11.43000</td><td>0</td><td>sky is clear </td></tr>\n",
       "</tbody>\n",
       "</table>\n"
      ],
      "text/latex": [
       "A tibble: 6 × 6\n",
       "\\begin{tabular}{llllll}\n",
       " datetime & humidity.pct & pressure.kpa & temperature.c & wind\\_speed.m/s & description\\\\\n",
       " <dttm> & <dbl> & <dbl> & <dbl> & <dbl> & <fct>\\\\\n",
       "\\hline\n",
       "\t 2012-10-02 09:00:00 & 87 &  807 & 11.44022 & 0 & broken clouds\\\\\n",
       "\t 2012-10-02 10:00:00 & 88 &  849 & 11.43817 & 0 & broken clouds\\\\\n",
       "\t 2012-10-02 11:00:00 & 89 &  890 & 11.43613 & 0 & broken clouds\\\\\n",
       "\t 2012-10-02 12:00:00 & 89 &  932 & 11.43409 & 0 & broken clouds\\\\\n",
       "\t 2012-10-02 13:00:00 & 90 &  973 & 11.43204 & 0 & broken clouds\\\\\n",
       "\t 2012-10-02 14:00:00 & 91 & 1015 & 11.43000 & 0 & sky is clear \\\\\n",
       "\\end{tabular}\n"
      ],
      "text/markdown": [
       "\n",
       "A tibble: 6 × 6\n",
       "\n",
       "| datetime &lt;dttm&gt; | humidity.pct &lt;dbl&gt; | pressure.kpa &lt;dbl&gt; | temperature.c &lt;dbl&gt; | wind_speed.m/s &lt;dbl&gt; | description &lt;fct&gt; |\n",
       "|---|---|---|---|---|---|\n",
       "| 2012-10-02 09:00:00 | 87 |  807 | 11.44022 | 0 | broken clouds |\n",
       "| 2012-10-02 10:00:00 | 88 |  849 | 11.43817 | 0 | broken clouds |\n",
       "| 2012-10-02 11:00:00 | 89 |  890 | 11.43613 | 0 | broken clouds |\n",
       "| 2012-10-02 12:00:00 | 89 |  932 | 11.43409 | 0 | broken clouds |\n",
       "| 2012-10-02 13:00:00 | 90 |  973 | 11.43204 | 0 | broken clouds |\n",
       "| 2012-10-02 14:00:00 | 91 | 1015 | 11.43000 | 0 | sky is clear  |\n",
       "\n"
      ],
      "text/plain": [
       "  datetime            humidity.pct pressure.kpa temperature.c wind_speed.m/s\n",
       "1 2012-10-02 09:00:00 87            807         11.44022      0             \n",
       "2 2012-10-02 10:00:00 88            849         11.43817      0             \n",
       "3 2012-10-02 11:00:00 89            890         11.43613      0             \n",
       "4 2012-10-02 12:00:00 89            932         11.43409      0             \n",
       "5 2012-10-02 13:00:00 90            973         11.43204      0             \n",
       "6 2012-10-02 14:00:00 91           1015         11.43000      0             \n",
       "  description  \n",
       "1 broken clouds\n",
       "2 broken clouds\n",
       "3 broken clouds\n",
       "4 broken clouds\n",
       "5 broken clouds\n",
       "6 sky is clear "
      ]
     },
     "metadata": {},
     "output_type": "display_data"
    }
   ],
   "source": [
    "weather_data = left_join(humidity_van, pressure_van, by = \"datetime\") %>%\n",
    "                left_join(temperature_van, by = \"datetime\") %>%\n",
    "                left_join(wind_van, by = \"datetime\") %>%\n",
    "                left_join(description_van) %>%\n",
    "                `colnames<-`(c(\"datetime\", \"humidity.pct\", \"pressure.kpa\", \"temperature.c\", \"wind_speed.m/s\", \"description\")) %>%\n",
    "                mutate(description = as.factor(description)) %>%\n",
    "                na.omit() %>%\n",
    "                mutate(temperature.c = temperature.c - 273.15)\n",
    "\n",
    "head(weather_data)"
   ]
  },
  {
   "cell_type": "code",
   "execution_count": null,
   "metadata": {},
   "outputs": [],
   "source": []
  }
 ],
 "metadata": {
  "kernelspec": {
   "display_name": "R",
   "language": "R",
   "name": "ir"
  },
  "language_info": {
   "codemirror_mode": "r",
   "file_extension": ".r",
   "mimetype": "text/x-r-source",
   "name": "R",
   "pygments_lexer": "r",
   "version": "4.0.0"
  }
 },
 "nbformat": 4,
 "nbformat_minor": 4
}
