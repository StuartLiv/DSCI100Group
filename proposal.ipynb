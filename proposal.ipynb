{
 "cells": [
  {
   "cell_type": "markdown",
   "metadata": {},
   "source": [
    "# Descriptive Vancouver Weather Classification from Measurements"
   ]
  },
  {
   "cell_type": "markdown",
   "metadata": {},
   "source": [
    "### Introduction\n",
    "In our present day and age, climate change has become a non-negligible impact on human life. The possible impact of climate change on human health is increasingly acknowledged. (Auger et al., 2011). To reduce the damage caused by severe weather, people need to predict the future weather. Weather forecasting is essential for providing vital information about severe weather threats and risk management. (Weyn et al., 2019). \n",
    "\n",
    "However, weather cannot be modeled simply by the qualitative phenomenon, but by quantitative measurements of weather instruments. The problem this project seeks to adress is that in isolation, quantitative measurements do not describe a qualitative pattern. Using k-nearest-neighbour classification, can weather be described as function of these quantitative measuremnts? If so, as this project will discuss, weather masurement as well as prediction can be further automated, since only quantitative measurements would need to be taken to fully describe the weather.\n",
    "\n",
    "The dataset we will use is on https://www.kaggle.com/selfishgene/historical-hourly-weather-data. It includes data over separate csv files for different variables, like humidity.csv, pressure.csv etc. We are going to combine them into one dataset and focus on only city Vancouver with date-time, description of weather, humidity, pressure, and temperature."
   ]
  },
  {
   "cell_type": "markdown",
   "metadata": {},
   "source": [
    "### Preliminary exploratory data analysis"
   ]
  },
  {
   "cell_type": "markdown",
   "metadata": {},
   "source": [
    "##### Loading and Tidying data:"
   ]
  },
  {
   "cell_type": "code",
   "execution_count": 6,
   "metadata": {},
   "outputs": [],
   "source": [
    "#Loading in the data set, selecting the vancouver columns:\n",
    "\n",
    "library(tidyverse)\n",
    "\n",
    "humidity_van = read_csv(\"https://raw.githubusercontent.com/StuartLiv/DSCI100Group/main/data/humidity.csv\", col_types = cols()) %>%\n",
    "            select(datetime, Vancouver)\n",
    "pressure_van = read_csv(\"https://raw.githubusercontent.com/StuartLiv/DSCI100Group/main/data/pressure.csv\", col_types = cols()) %>%\n",
    "            select(datetime, Vancouver)\n",
    "temperature_van = read_csv(\"https://raw.githubusercontent.com/StuartLiv/DSCI100Group/main/data/temperature.csv\", col_types = cols()) %>%\n",
    "            select(datetime, Vancouver)\n",
    "wind_van = read_csv(\"https://raw.githubusercontent.com/StuartLiv/DSCI100Group/main/data/wind_speed.csv\", col_types = cols()) %>%\n",
    "            select(datetime, Vancouver)\n",
    "description_van = read_csv(\"https://raw.githubusercontent.com/StuartLiv/DSCI100Group/main/data/weather_description.csv\", col_types = cols()) %>%\n",
    "            select(datetime, Vancouver)\n",
    "\n",
    "# Merging the data frames, omitting rows with nulls, and converting temperature from kelvin to celsius \n",
    "weather_data_verbose = left_join(humidity_van, pressure_van, by = \"datetime\") %>%\n",
    "                left_join(temperature_van, by = \"datetime\") %>%\n",
    "                left_join(wind_van, by = \"datetime\") %>%\n",
    "                left_join(description_van, by = \"datetime\") %>%\n",
    "                `colnames<-`(c(\"datetime\", \"humidity.pct\", \"pressure.kpa\", \"temperature.c\", \"wind_speed.m/s\", \"description\")) %>%\n",
    "                na.omit() %>%\n",
    "                mutate(temperature.c = temperature.c - 273.15)\n",
    "\n",
    "# mutating the dataframe to use less esoteric weather terms, and make description a factor:\n",
    "\n",
    "weather_data = weather_data_verbose %>% \n",
    "            filter(description != 'volcanic ash' & description != 'dust' & description != 'smoke' & description != 'haze') %>%\n",
    "            mutate(description = case_when(description %in% c('broken clouds', 'few clouds', 'overcast clouds', 'scattered clouds') ~ 'cloudy',\n",
    "                                           description %in% c('heavy intensity rain', 'heavy intensity shower rain', 'very heavy rain') ~ 'heavy rain',\n",
    "                                           description %in% c('drizzle', 'light intensity drizzle', 'light intensity drizzle rain', 'light intensity shower rain', 'light rain and snow') ~ 'light rain',\n",
    "                                           description %in% c('heavy shower snow', 'light shower snow', 'heavy snow', 'light snow', 'shower snow', 'sleet', 'light shower sleet') ~ 'snow',\n",
    "                                           description %in% c('proximity thunderstorm', 'ragged thunderstorm', 'thunderstorm with heavy rain', 'thunderstorm with light rain', 'thunderstorm with rain') ~ 'thunderstorm',\n",
    "                                           description %in% c('proximity shower rain', 'shower rain') ~ 'moderate rain',\n",
    "                                           description == 'mist' ~ 'fog',\n",
    "                                           description == 'sky is clear' ~ 'clear sky',\n",
    "                                           TRUE ~ description)) %>%\n",
    "            mutate(description = as.factor(description))\n"
   ]
  },
  {
   "cell_type": "markdown",
   "metadata": {},
   "source": [
    "##### Graphs and tables:"
   ]
  },
  {
   "cell_type": "code",
   "execution_count": 7,
   "metadata": {},
   "outputs": [],
   "source": [
    "# insert graph we will choose, felix has to make a summary table still"
   ]
  },
  {
   "cell_type": "markdown",
   "metadata": {},
   "source": [
    "|| datetime | humidity(pct) | pressure(kpa) | temperature(C) |\n",
    "| :---: | :---: | :---: | :---: | :---: |\n",
    "| max | 2017-10-28 00:00:00 | 100.00 | 1100  |33.850 |\n",
    "| min | 2012-10-02 09:00:00 | 12.00 | 807 |-28.000 |\n",
    "| mean | 2015-06-19 19:59:37 | 81.98 | 1018 |11.003 |\n",
    "| missing data | 0 | 0 | 0 |0 |"
   ]
  },
  {
   "cell_type": "code",
   "execution_count": 9,
   "metadata": {},
   "outputs": [
    {
     "ename": "ERROR",
     "evalue": "Error in parse(text = x, srcfile = src): <text>:1:1: unexpected '||'\n1: ||\n    ^\n",
     "output_type": "error",
     "traceback": [
      "Error in parse(text = x, srcfile = src): <text>:1:1: unexpected '||'\n1: ||\n    ^\nTraceback:\n"
     ]
    }
   ],
   "source": [
    "|| description | number of appearing times | \n",
    "| :---: | :---: | \n",
    "| cloudy | 13358 | \n",
    "| clear sky | 12061 | \n",
    "| light rain | 6518 |\n",
    "| fog | 4580 | \n",
    "| moderate rain | 2224 |\n",
    "| heavy rain | 662| \n",
    "| (Other) | 634 |"
   ]
  },
  {
   "cell_type": "markdown",
   "metadata": {},
   "source": [
    "### Methods\n",
    "\n",
    "(Kelly)\n",
    "\n",
    "- **city_attributes.csv**: description of different cities.\n",
    "- **humidity.csv**: includes humidity in different cities at specific day time(year-month-day-hour)\n",
    "- **pressure.csv**: includes air pressure in different cities at specific day time(year-month-day-hour)\n",
    "- **temperature.csv**: includes temperature in different cities at specific day time(year-month-day-hour)\n",
    "- **weather_description.csv**: description of different weather patterns at specific day time at different cities. - the qualitative variable we would like to classify on\n",
    "- **wind_direciton.csv**: we will not use this file, as it is relevant for weather prediction, but not classification\n",
    "- **wind_speed.csv**: includes wind speed in different cities at a specific day time(year-month-day-hour)\n"
   ]
  },
  {
   "cell_type": "markdown",
   "metadata": {},
   "source": [
    "### Expected Outcomes and Significance\n",
    "(Ina)"
   ]
  },
  {
   "cell_type": "markdown",
   "metadata": {},
   "source": [
    "### References\n",
    "\n",
    "Auger, N., et al. (2011). Preterm Birth During an Extreme Weather Event in Québec,\n",
    "Canada: A “Natural Experiment”. Matern Child Health J, 15, 1088-1096. https://doi.org/10.1007/s10995-010-0645-0\n",
    " \n",
    "Weyn, Jonathan A., et al. (2019). Can Machines Learn to Predict Weather? Using DeepLearning to Predict Gridded 500‐hPa Geopotential Height From Historical Weather Data. Journal of Advances in Modeling Earth Systems, 11(8), 2680-2693.\n",
    "https://doi.org/10.1029/2019MS001705\n",
    "\n"
   ]
  },
  {
   "cell_type": "code",
   "execution_count": null,
   "metadata": {},
   "outputs": [],
   "source": []
  },
  {
   "cell_type": "code",
   "execution_count": null,
   "metadata": {},
   "outputs": [],
   "source": []
  }
 ],
 "metadata": {
  "kernelspec": {
   "display_name": "R",
   "language": "R",
   "name": "ir"
  },
  "language_info": {
   "codemirror_mode": "r",
   "file_extension": ".r",
   "mimetype": "text/x-r-source",
   "name": "R",
   "pygments_lexer": "r",
   "version": "4.0.0"
  }
 },
 "nbformat": 4,
 "nbformat_minor": 4
}
